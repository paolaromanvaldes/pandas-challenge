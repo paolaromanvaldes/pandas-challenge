{
 "cells": [
  {
   "cell_type": "code",
   "execution_count": 10,
   "id": "9a6337be",
   "metadata": {},
   "outputs": [],
   "source": [
    "#importing pandas into jupyter\n",
    "import pandas as pd \n",
    "\n",
    "#importing data sets \n",
    "schools = pd.read_csv('schools_complete.csv')\n",
    "students = pd.read_csv('students_complete.csv')\n",
    "\n",
    "#joining both data sets for ease of use\n",
    "\n",
    "schoolsxstudents = pd.merge(schools, students, how = 'left', on=[\"school_name\", \"school_name\"])\n",
    "\n",
    "\n"
   ]
  },
  {
   "cell_type": "code",
   "execution_count": 7,
   "id": "6819bb2b",
   "metadata": {},
   "outputs": [
    {
     "data": {
      "text/plain": [
       "15"
      ]
     },
     "execution_count": 7,
     "metadata": {},
     "output_type": "execute_result"
    }
   ],
   "source": [
    "#district summary\n",
    "#gathering school names \n",
    "school_names = schoolsxstudents['school_name'].unique()\n",
    "\n",
    "school_count = len(school_names)\n",
    "\n",
    "school_count\n",
    "\n"
   ]
  },
  {
   "cell_type": "code",
   "execution_count": 22,
   "id": "b6025761",
   "metadata": {},
   "outputs": [
    {
     "data": {
      "text/plain": [
       "39170"
      ]
     },
     "execution_count": 22,
     "metadata": {},
     "output_type": "execute_result"
    }
   ],
   "source": [
    "#total number of students in all schools \n",
    "all_students = schoolsxstudents['student_name'].count()\n",
    "all_students"
   ]
  },
  {
   "cell_type": "code",
   "execution_count": 9,
   "id": "d5e9ae6b",
   "metadata": {},
   "outputs": [
    {
     "data": {
      "text/plain": [
       "24649428"
      ]
     },
     "execution_count": 9,
     "metadata": {},
     "output_type": "execute_result"
    }
   ],
   "source": [
    "#total of the school district budget\n",
    "combined_budget = schools['budget'].sum()\n",
    "combined_budget"
   ]
  },
  {
   "cell_type": "code",
   "execution_count": 14,
   "id": "f6fe93a9",
   "metadata": {},
   "outputs": [
    {
     "data": {
      "text/plain": [
       "78.98537145774827"
      ]
     },
     "execution_count": 14,
     "metadata": {},
     "output_type": "execute_result"
    }
   ],
   "source": [
    "# Average math score for school district\n",
    "\n",
    "avg_math_score = students['math_score'].mean()\n",
    "\n",
    "avg_math_score\n"
   ]
  },
  {
   "cell_type": "code",
   "execution_count": 15,
   "id": "9d7127ce",
   "metadata": {},
   "outputs": [
    {
     "data": {
      "text/plain": [
       "81.87784018381414"
      ]
     },
     "execution_count": 15,
     "metadata": {},
     "output_type": "execute_result"
    }
   ],
   "source": [
    "# Average reading score for school district\n",
    "\n",
    "avg_reading_score = students['reading_score'].mean()\n",
    "\n",
    "avg_reading_score\n"
   ]
  },
  {
   "cell_type": "code",
   "execution_count": 20,
   "id": "20dd09dd",
   "metadata": {},
   "outputs": [
    {
     "data": {
      "text/plain": [
       "92.4457492979321"
      ]
     },
     "execution_count": 20,
     "metadata": {},
     "output_type": "execute_result"
    }
   ],
   "source": [
    "#percentage of district  wide students passing math at above a 60 percent \n",
    "math_pass_students = schoolsxstudents.loc[schoolsxstudents['math_score'] >= 60]\n",
    "math_pass_students_count = math_pass_students['Student ID'].count()\n",
    "\n",
    "percent_math_pass = (math_pass_students_count / all_students) * 100\n",
    "\n",
    "percent_math_pass"
   ]
  },
  {
   "cell_type": "code",
   "execution_count": 24,
   "id": "cdb25a5b",
   "metadata": {},
   "outputs": [
    {
     "data": {
      "text/plain": [
       "100.0"
      ]
     },
     "execution_count": 24,
     "metadata": {},
     "output_type": "execute_result"
    }
   ],
   "source": [
    "#percentage of district  wide students passing reading at above a 60 percent \n",
    "reading_pass_students = schoolsxstudents.loc[schoolsxstudents['reading_score'] >= 60]\n",
    "reading_pass_students_count = reading_pass_students['Student ID'].count()\n",
    "\n",
    "percent_reading_pass = (reading_pass_students_count / all_students) * 100\n",
    "percent_reading_pass\n"
   ]
  },
  {
   "cell_type": "code",
   "execution_count": 27,
   "id": "994507ca",
   "metadata": {},
   "outputs": [
    {
     "data": {
      "text/plain": [
       "96.22287464896604"
      ]
     },
     "execution_count": 27,
     "metadata": {},
     "output_type": "execute_result"
    }
   ],
   "source": [
    "# percentage of students that passed both math and reading\n",
    "math_and_reading_pass_percent = ((percent_math_pass + percent_reading_pass)/200)*100\n",
    "math_and_reading_pass_percent"
   ]
  },
  {
   "cell_type": "code",
   "execution_count": 29,
   "id": "4447129d",
   "metadata": {},
   "outputs": [
    {
     "data": {
      "text/html": [
       "<div>\n",
       "<style scoped>\n",
       "    .dataframe tbody tr th:only-of-type {\n",
       "        vertical-align: middle;\n",
       "    }\n",
       "\n",
       "    .dataframe tbody tr th {\n",
       "        vertical-align: top;\n",
       "    }\n",
       "\n",
       "    .dataframe thead th {\n",
       "        text-align: right;\n",
       "    }\n",
       "</style>\n",
       "<table border=\"1\" class=\"dataframe\">\n",
       "  <thead>\n",
       "    <tr style=\"text-align: right;\">\n",
       "      <th></th>\n",
       "      <th>Total Schools</th>\n",
       "      <th>Total Students</th>\n",
       "      <th>Total Budget</th>\n",
       "      <th>Average Math Score</th>\n",
       "      <th>Average Reading Score</th>\n",
       "      <th>% Passing Math</th>\n",
       "      <th>% Passing Reading</th>\n",
       "      <th>% Overall Passing</th>\n",
       "    </tr>\n",
       "  </thead>\n",
       "  <tbody>\n",
       "    <tr>\n",
       "      <th>0</th>\n",
       "      <td>15</td>\n",
       "      <td>39,170</td>\n",
       "      <td>$24,649,428.000</td>\n",
       "      <td>78.985371458</td>\n",
       "      <td>81.87784018</td>\n",
       "      <td>92.445749298</td>\n",
       "      <td>100.000000000</td>\n",
       "      <td>96.222875</td>\n",
       "    </tr>\n",
       "  </tbody>\n",
       "</table>\n",
       "</div>"
      ],
      "text/plain": [
       "   Total Schools Total Students     Total Budget Average Math Score  \\\n",
       "0             15         39,170  $24,649,428.000       78.985371458   \n",
       "\n",
       "  Average Reading Score % Passing Math % Passing Reading % Overall Passing  \n",
       "0           81.87784018   92.445749298     100.000000000         96.222875  "
      ]
     },
     "execution_count": 29,
     "metadata": {},
     "output_type": "execute_result"
    }
   ],
   "source": [
    "#data frame holding district results\n",
    "\n",
    "district_wide_summary = pd.DataFrame({\n",
    "    \"Total Schools\": school_count,\n",
    "    \"Total Students\": f\"{all_students:,}\",\n",
    "    \"Total Budget\": f\"${combined_budget:,.3f}\",\n",
    "    \"Average Math Score\": f\"{avg_math_score:.9f}\",\n",
    "    \"Average Reading Score\": f\"{avg_reading_score:.8f}\",\n",
    "    \"% Passing Math\": f\"{percent_math_pass:.9f}\",\n",
    "    \"% Passing Reading\": f\"{percent_reading_pass:.9f}\",\n",
    "    \"% Overall Passing\": f\"{math_and_reading_pass_percent: .6f}\"\n",
    "}, index=[0])\n",
    "\n",
    "district_wide_summary"
   ]
  },
  {
   "cell_type": "code",
   "execution_count": 23,
   "id": "48a5fe87",
   "metadata": {},
   "outputs": [],
   "source": [
    "#setting individual school variables \n",
    "#school name\n",
    "school_nm =schoolsxstudents.set_index('school_name').groupby(['school_name'])\n",
    "#School Type\n",
    "school_typ = schools.set_index('school_name')['type']\n",
    "#Total Students\n",
    "total_school_students = school_nm['Student ID'].count()\n",
    "#Total School Budget\n",
    "total_school_budget = schools.set_index('school_name')['budget']\n",
    "#Per Student Budget\n",
    "per_student_budget = (schools.set_index('school_name')['budget']/schools.set_index('school_name')['size'])\n",
    "#Average Math Score per school\n",
    "avg_math_score = school_nm['math_score'].mean()\n",
    "#Average Reading Score per school\n",
    "avg_reading_score = school_nm['reading_score'].mean()\n",
    "#Percentage Passing Math per school\n",
    "pass_math_prt = schoolsxstudents[schoolsxstudents['math_score'] >= 60].groupby('school_name')['Student ID'].count()/all_students*100\n",
    "#Percenatge Passing Reading per school\n",
    "pass_reading_prt = schoolsxstudents[schoolsxstudents['reading_score'] >= 60].groupby('school_name')['Student ID'].count()/all_students*100\n",
    "#Percentage of students passing overall per school\n",
    "overall_pass = schoolsxstudents[(schoolsxstudents['reading_score'] >= 60) & (schoolsxstudents['math_score'] >= 60)].groupby('school_name')['Student ID'].count()/all_students*100"
   ]
  },
  {
   "cell_type": "code",
   "execution_count": 27,
   "id": "966a389a",
   "metadata": {},
   "outputs": [
    {
     "ename": "NameError",
     "evalue": "name 'school_typ' is not defined",
     "output_type": "error",
     "traceback": [
      "\u001b[0;31m---------------------------------------------------------------------------\u001b[0m",
      "\u001b[0;31mNameError\u001b[0m                                 Traceback (most recent call last)",
      "Cell \u001b[0;32mIn[27], line 2\u001b[0m\n\u001b[1;32m      1\u001b[0m school_summary \u001b[38;5;241m=\u001b[39m pd\u001b[38;5;241m.\u001b[39mDataFrame({\n\u001b[0;32m----> 2\u001b[0m     \u001b[38;5;124m\"\u001b[39m\u001b[38;5;124mSchool Type\u001b[39m\u001b[38;5;124m\"\u001b[39m: school_typ,\n\u001b[1;32m      3\u001b[0m     \u001b[38;5;124m\"\u001b[39m\u001b[38;5;124mTotal Students\u001b[39m\u001b[38;5;124m\"\u001b[39m: total_school_students,\n\u001b[1;32m      4\u001b[0m     \u001b[38;5;124m\"\u001b[39m\u001b[38;5;124mPer Student Budget\u001b[39m\u001b[38;5;124m\"\u001b[39m: per_student_budget,\n\u001b[1;32m      5\u001b[0m     \u001b[38;5;124m\"\u001b[39m\u001b[38;5;124mSchool Budget\u001b[39m\u001b[38;5;124m\"\u001b[39m: total_school_budget,\n\u001b[1;32m      6\u001b[0m     \u001b[38;5;124m\"\u001b[39m\u001b[38;5;124mAverage Math Score\u001b[39m\u001b[38;5;124m\"\u001b[39m: avg_math_score,\n\u001b[1;32m      7\u001b[0m     \u001b[38;5;124m\"\u001b[39m\u001b[38;5;124mAverage Reading Score\u001b[39m\u001b[38;5;124m\"\u001b[39m: avg_reading_score,\n\u001b[1;32m      8\u001b[0m     \u001b[38;5;124m'\u001b[39m\u001b[38;5;124m%\u001b[39m\u001b[38;5;124m Passing Math\u001b[39m\u001b[38;5;124m'\u001b[39m: pass_math_prt,\n\u001b[1;32m      9\u001b[0m     \u001b[38;5;124m'\u001b[39m\u001b[38;5;124m%\u001b[39m\u001b[38;5;124m Passing Reading\u001b[39m\u001b[38;5;124m'\u001b[39m: pass_reading_prt,\n\u001b[1;32m     10\u001b[0m     \u001b[38;5;124m\"\u001b[39m\u001b[38;5;124m%\u001b[39m\u001b[38;5;124m Overall Passing\u001b[39m\u001b[38;5;124m\"\u001b[39m: overall_pass\n\u001b[1;32m     11\u001b[0m })\n",
      "\u001b[0;31mNameError\u001b[0m: name 'school_typ' is not defined"
     ]
    }
   ],
   "source": [
    "school_summary = pd.DataFrame({\n",
    "    \"School Type\": school_typ,\n",
    "    \"Total Students\": total_school_students,\n",
    "    \"Per Student Budget\": per_student_budget,\n",
    "    \"School Budget\": total_school_budget,\n",
    "    \"Average Math Score\": avg_math_score,\n",
    "    \"Average Reading Score\": avg_reading_score,\n",
    "    '% Passing Math': pass_math_prt,\n",
    "    '% Passing Reading': pass_reading_prt,\n",
    "    \"% Overall Passing\": overall_pass\n",
    "})"
   ]
  },
  {
   "cell_type": "code",
   "execution_count": 26,
   "id": "c67c85c5",
   "metadata": {},
   "outputs": [
    {
     "ename": "NameError",
     "evalue": "name 'school_typ' is not defined",
     "output_type": "error",
     "traceback": [
      "\u001b[0;31m---------------------------------------------------------------------------\u001b[0m",
      "\u001b[0;31mNameError\u001b[0m                                 Traceback (most recent call last)",
      "Cell \u001b[0;32mIn[26], line 4\u001b[0m\n\u001b[1;32m      1\u001b[0m \u001b[38;5;66;03m#setting individual school summary data set \u001b[39;00m\n\u001b[1;32m      3\u001b[0m school_summary \u001b[38;5;241m=\u001b[39m pd\u001b[38;5;241m.\u001b[39mDataFrame({\n\u001b[0;32m----> 4\u001b[0m     \u001b[38;5;124m\"\u001b[39m\u001b[38;5;124mSchool Type\u001b[39m\u001b[38;5;124m\"\u001b[39m: school_typ,\n\u001b[1;32m      5\u001b[0m     \u001b[38;5;124m\"\u001b[39m\u001b[38;5;124mTotal Students\u001b[39m\u001b[38;5;124m\"\u001b[39m: total_school_students,\n\u001b[1;32m      6\u001b[0m     \u001b[38;5;124m\"\u001b[39m\u001b[38;5;124mPer Student Budget\u001b[39m\u001b[38;5;124m\"\u001b[39m: per_student_budget,\n\u001b[1;32m      7\u001b[0m     \u001b[38;5;124m\"\u001b[39m\u001b[38;5;124mSchool Budget\u001b[39m\u001b[38;5;124m\"\u001b[39m: total_school_budget,\n\u001b[1;32m      8\u001b[0m     \u001b[38;5;124m\"\u001b[39m\u001b[38;5;124mAverage Math Score\u001b[39m\u001b[38;5;124m\"\u001b[39m: avg_math_score,\n\u001b[1;32m      9\u001b[0m     \u001b[38;5;124m\"\u001b[39m\u001b[38;5;124mAverage Reading Score\u001b[39m\u001b[38;5;124m\"\u001b[39m: avg_reading_score,\n\u001b[1;32m     10\u001b[0m     \u001b[38;5;124m'\u001b[39m\u001b[38;5;124m%\u001b[39m\u001b[38;5;124m Passing Math\u001b[39m\u001b[38;5;124m'\u001b[39m: pass_math_prt,\n\u001b[1;32m     11\u001b[0m     \u001b[38;5;124m'\u001b[39m\u001b[38;5;124m%\u001b[39m\u001b[38;5;124m Passing Reading\u001b[39m\u001b[38;5;124m'\u001b[39m: pass_reading_prt,\n\u001b[1;32m     12\u001b[0m     \u001b[38;5;124m\"\u001b[39m\u001b[38;5;124m%\u001b[39m\u001b[38;5;124m Overall Passing\u001b[39m\u001b[38;5;124m\"\u001b[39m: overall_pass\n\u001b[1;32m     13\u001b[0m })\n",
      "\u001b[0;31mNameError\u001b[0m: name 'school_typ' is not defined"
     ]
    }
   ],
   "source": [
    "#setting individual school summary data set \n",
    "\n",
    "school_summary = pd.DataFrame({\n",
    "    \"School Type\": school_typ,\n",
    "    \"Total Students\": total_school_students,\n",
    "    \"Per Student Budget\": per_student_budget,\n",
    "    \"School Budget\": total_school_budget,\n",
    "    \"Average Math Score\": avg_math_score,\n",
    "    \"Average Reading Score\": avg_reading_score,\n",
    "    '% Passing Math': pass_math_prt,\n",
    "    '% Passing Reading': pass_reading_prt,\n",
    "    \"% Overall Passing\": overall_pass\n",
    "})"
   ]
  },
  {
   "cell_type": "code",
   "execution_count": 10,
   "id": "e3edec02",
   "metadata": {},
   "outputs": [],
   "source": []
  },
  {
   "cell_type": "code",
   "execution_count": 12,
   "id": "8174511e",
   "metadata": {},
   "outputs": [],
   "source": []
  },
  {
   "cell_type": "code",
   "execution_count": 13,
   "id": "0d650be7",
   "metadata": {},
   "outputs": [],
   "source": []
  },
  {
   "cell_type": "code",
   "execution_count": 19,
   "id": "d1af5cfc",
   "metadata": {},
   "outputs": [],
   "source": []
  },
  {
   "cell_type": "code",
   "execution_count": 20,
   "id": "de5eada2",
   "metadata": {},
   "outputs": [],
   "source": []
  },
  {
   "cell_type": "code",
   "execution_count": 5,
   "id": "98ca8533",
   "metadata": {},
   "outputs": [],
   "source": [
    "\n",
    "\n"
   ]
  },
  {
   "cell_type": "code",
   "execution_count": null,
   "id": "5c8eb867",
   "metadata": {},
   "outputs": [],
   "source": []
  },
  {
   "cell_type": "code",
   "execution_count": null,
   "id": "934fe69b",
   "metadata": {},
   "outputs": [],
   "source": []
  }
 ],
 "metadata": {
  "kernelspec": {
   "display_name": "PythonData",
   "language": "python",
   "name": "pythondata"
  },
  "language_info": {
   "codemirror_mode": {
    "name": "ipython",
    "version": 3
   },
   "file_extension": ".py",
   "mimetype": "text/x-python",
   "name": "python",
   "nbconvert_exporter": "python",
   "pygments_lexer": "ipython3",
   "version": "3.11.4"
  }
 },
 "nbformat": 4,
 "nbformat_minor": 5
}
