{
 "cells": [
  {
   "cell_type": "code",
   "execution_count": 1,
   "id": "726ade04",
   "metadata": {},
   "outputs": [],
   "source": [
    "#importing pandas into jupyter\n",
    "import pandas as pd \n",
    "\n",
    "#importing data sets \n",
    "schools = pd.read_csv('schools_complete.csv')\n",
    "students = pd.read_csv('students_complete.csv')\n",
    "\n",
    "#joining both data sets for ease of use\n",
    "\n",
    "schoolsxstudents = pd.merge(schools, students, how = 'left', on=[\"school_name\", \"school_name\"])\n",
    "\n"
   ]
  },
  {
   "cell_type": "code",
   "execution_count": 2,
   "id": "9ea185f2",
   "metadata": {},
   "outputs": [
    {
     "data": {
      "text/plain": [
       "15"
      ]
     },
     "execution_count": 2,
     "metadata": {},
     "output_type": "execute_result"
    }
   ],
   "source": [
    " #district summary\n",
    "#gathering school names \n",
    "school_names = schoolsxstudents['school_name'].unique()\n",
    "\n",
    "school_count = len(school_names)\n",
    "\n",
    "school_count"
   ]
  },
  {
   "cell_type": "code",
   "execution_count": 3,
   "id": "8ae9cac7",
   "metadata": {},
   "outputs": [
    {
     "data": {
      "text/plain": [
       "39170"
      ]
     },
     "execution_count": 3,
     "metadata": {},
     "output_type": "execute_result"
    }
   ],
   "source": [
    "#total number of students in all schools \n",
    "all_students = schoolsxstudents['student_name'].count()\n",
    "all_students"
   ]
  },
  {
   "cell_type": "code",
   "execution_count": 4,
   "id": "885fa4be",
   "metadata": {},
   "outputs": [
    {
     "data": {
      "text/plain": [
       "24649428"
      ]
     },
     "execution_count": 4,
     "metadata": {},
     "output_type": "execute_result"
    }
   ],
   "source": [
    "#total of the school district budget\n",
    "combined_budget = schools['budget'].sum()\n",
    "combined_budget"
   ]
  },
  {
   "cell_type": "code",
   "execution_count": 47,
   "id": "d56e50ca",
   "metadata": {},
   "outputs": [
    {
     "data": {
      "text/plain": [
       "78.98537145774827"
      ]
     },
     "execution_count": 47,
     "metadata": {},
     "output_type": "execute_result"
    }
   ],
   "source": [
    "# Average math score for school district\n",
    "\n",
    "avrg_math_score = students['math_score'].mean()\n",
    "\n",
    "avrg_math_score"
   ]
  },
  {
   "cell_type": "code",
   "execution_count": 48,
   "id": "7ad7a109",
   "metadata": {},
   "outputs": [
    {
     "data": {
      "text/plain": [
       "81.87784018381414"
      ]
     },
     "execution_count": 48,
     "metadata": {},
     "output_type": "execute_result"
    }
   ],
   "source": [
    "# Average reading score for school district\n",
    "\n",
    "avrg_reading_score = students['reading_score'].mean()\n",
    "\n",
    "avrg_reading_score"
   ]
  },
  {
   "cell_type": "code",
   "execution_count": 49,
   "id": "3899ca44",
   "metadata": {},
   "outputs": [
    {
     "data": {
      "text/plain": [
       "74.9808526933878"
      ]
     },
     "execution_count": 49,
     "metadata": {},
     "output_type": "execute_result"
    }
   ],
   "source": [
    "#percentage of district  wide students passing math at above a 60 percent \n",
    "math_pass_students = schoolsxstudents.loc[schoolsxstudents['math_score'] >= 70]\n",
    "math_pass_students_count = math_pass_students['Student ID'].count()\n",
    "\n",
    "percent_math_pass = (math_pass_students_count / all_students) * 100\n",
    "\n",
    "percent_math_pass"
   ]
  },
  {
   "cell_type": "code",
   "execution_count": 50,
   "id": "83bcab8b",
   "metadata": {},
   "outputs": [
    {
     "data": {
      "text/plain": [
       "85.80546336482001"
      ]
     },
     "execution_count": 50,
     "metadata": {},
     "output_type": "execute_result"
    }
   ],
   "source": [
    "#percentage of district  wide students passing reading at above a 60 percent \n",
    "reading_pass_students = schoolsxstudents.loc[schoolsxstudents['reading_score'] >= 70]\n",
    "reading_pass_students_count = reading_pass_students['Student ID'].count()\n",
    "\n",
    "percent_reading_pass = (reading_pass_students_count / all_students) * 100\n",
    "percent_reading_pass\n",
    "\n"
   ]
  },
  {
   "cell_type": "code",
   "execution_count": 51,
   "id": "d605c5aa",
   "metadata": {},
   "outputs": [
    {
     "data": {
      "text/plain": [
       "80.39315802910392"
      ]
     },
     "execution_count": 51,
     "metadata": {},
     "output_type": "execute_result"
    }
   ],
   "source": [
    "#percentage of district  wide students passing reading and math at above a 60 percent \n",
    "\n",
    "math_and_reading_pass_percent = ((percent_reading_pass + percent_math_pass)/200)*100\n",
    "math_and_reading_pass_percent"
   ]
  },
  {
   "cell_type": "code",
   "execution_count": 60,
   "id": "9092dd79",
   "metadata": {},
   "outputs": [
    {
     "data": {
      "text/html": [
       "<div>\n",
       "<style scoped>\n",
       "    .dataframe tbody tr th:only-of-type {\n",
       "        vertical-align: middle;\n",
       "    }\n",
       "\n",
       "    .dataframe tbody tr th {\n",
       "        vertical-align: top;\n",
       "    }\n",
       "\n",
       "    .dataframe thead th {\n",
       "        text-align: right;\n",
       "    }\n",
       "</style>\n",
       "<table border=\"1\" class=\"dataframe\">\n",
       "  <thead>\n",
       "    <tr style=\"text-align: right;\">\n",
       "      <th></th>\n",
       "      <th>Total Schools</th>\n",
       "      <th>Total Students</th>\n",
       "      <th>Total Budget</th>\n",
       "      <th>Average Math Score</th>\n",
       "      <th>Average Reading Score</th>\n",
       "      <th>Passing Math</th>\n",
       "      <th>Passing Reading</th>\n",
       "      <th>Overall Passing</th>\n",
       "    </tr>\n",
       "  </thead>\n",
       "  <tbody>\n",
       "    <tr>\n",
       "      <th>0</th>\n",
       "      <td>15</td>\n",
       "      <td>39,170</td>\n",
       "      <td>$24,649,428.00</td>\n",
       "      <td>78.985371</td>\n",
       "      <td>81.87784</td>\n",
       "      <td>74.980853</td>\n",
       "      <td>85.805463</td>\n",
       "      <td>80.393158</td>\n",
       "    </tr>\n",
       "  </tbody>\n",
       "</table>\n",
       "</div>"
      ],
      "text/plain": [
       "   Total Schools Total Students    Total Budget Average Math Score  \\\n",
       "0             15         39,170  $24,649,428.00          78.985371   \n",
       "\n",
       "  Average Reading Score Passing Math Passing Reading Overall Passing  \n",
       "0              81.87784    74.980853       85.805463       80.393158  "
      ]
     },
     "execution_count": 60,
     "metadata": {},
     "output_type": "execute_result"
    }
   ],
   "source": [
    "#data frame holding district results\n",
    "district_wide_summary = pd.DataFrame({\n",
    "    \"Total Schools\": school_count,\n",
    "    \"Total Students\": f\"{all_students:,}\",\n",
    "    \"Total Budget\": f\"${combined_budget:,.2f}\",\n",
    "    \"Average Math Score\": f\"{avrg_math_score:.6f}\",\n",
    "    \"Average Reading Score\": f\"{avrg_reading_score:.5f}\",\n",
    "    \"Passing Math\": f\"{percent_math_pass:.6f}\",\n",
    "    \"Passing Reading\": f\"{percent_reading_pass:.6f}\",\n",
    "    \"Overall Passing\": f\"{math_and_reading_pass_percent: .6f}\"\n",
    "}, index=[0])\n",
    "\n",
    "district_wide_summary\n"
   ]
  },
  {
   "cell_type": "code",
   "execution_count": 54,
   "id": "fead5b4f",
   "metadata": {},
   "outputs": [],
   "source": [
    "#setting individual school variables \n",
    "#school name\n",
    "school_nm =schoolsxstudents.set_index('school_name').groupby(['school_name'])\n",
    "#School Type\n",
    "school_typ = schools.set_index('school_name')['type']\n",
    "#Total Students\n",
    "total_school_students = school_nm['Student ID'].count()\n",
    "#Total School Budget\n",
    "total_school_budget = schools.set_index('school_name')['budget']\n",
    "#Per Student Budget\n",
    "per_student_budget = (schools.set_index('school_name')['budget']/schools.set_index('school_name')['size'])\n",
    "#Average Math Score per school\n",
    "avg_math_score = school_nm['math_score'].mean()\n",
    "#Average Reading Score per school\n",
    "avg_reading_score = school_nm['reading_score'].mean()\n",
    "#Percentage Passing Math per school\n",
    "pass_math_prt = (schoolsxstudents[schoolsxstudents['math_score'] >= 70].groupby('school_name')['Student ID'].count()/all_students)*100\n",
    "#Percenatge Passing Reading per school\n",
    "pass_reading_prt = (schoolsxstudents[schoolsxstudents['reading_score'] >= 70].groupby('school_name')['Student ID'].count()/all_students)*100\n",
    "#Percentage of students passing overall per school\n",
    "overall_pass = (schoolsxstudents[(schoolsxstudents['reading_score'] >= 70) & (schoolsxstudents['math_score'] >= 70)].groupby('school_name')['Student ID'].count()/all_students)*100"
   ]
  },
  {
   "cell_type": "code",
   "execution_count": 61,
   "id": "b99865e1",
   "metadata": {},
   "outputs": [
    {
     "ename": "KeyError",
     "evalue": "\"['Passing Math', 'Passing Reading', 'Overall Passing'] not in index\"",
     "output_type": "error",
     "traceback": [
      "\u001b[0;31m---------------------------------------------------------------------------\u001b[0m",
      "\u001b[0;31mKeyError\u001b[0m                                  Traceback (most recent call last)",
      "Cell \u001b[0;32mIn[61], line 13\u001b[0m\n\u001b[1;32m      1\u001b[0m indiv_school_summary \u001b[38;5;241m=\u001b[39m pd\u001b[38;5;241m.\u001b[39mDataFrame({\n\u001b[1;32m      2\u001b[0m     \u001b[38;5;124m'\u001b[39m\u001b[38;5;124mSchool Type\u001b[39m\u001b[38;5;124m'\u001b[39m: school_typ,\n\u001b[1;32m      3\u001b[0m     \u001b[38;5;124m'\u001b[39m\u001b[38;5;124mTotal Students\u001b[39m\u001b[38;5;124m'\u001b[39m: total_school_students,\n\u001b[0;32m   (...)\u001b[0m\n\u001b[1;32m     10\u001b[0m     \u001b[38;5;124m'\u001b[39m\u001b[38;5;124mOverall Passing\u001b[39m\u001b[38;5;124m'\u001b[39m: overall_pass\n\u001b[1;32m     11\u001b[0m })\n\u001b[0;32m---> 13\u001b[0m school_summary \u001b[38;5;241m=\u001b[39m school_summary[[\u001b[38;5;124m'\u001b[39m\u001b[38;5;124mSchool Type\u001b[39m\u001b[38;5;124m'\u001b[39m, \n\u001b[1;32m     14\u001b[0m                           \u001b[38;5;124m'\u001b[39m\u001b[38;5;124mTotal Students\u001b[39m\u001b[38;5;124m'\u001b[39m, \n\u001b[1;32m     15\u001b[0m                           \u001b[38;5;124m'\u001b[39m\u001b[38;5;124mSchool Budget\u001b[39m\u001b[38;5;124m'\u001b[39m, \n\u001b[1;32m     16\u001b[0m                           \u001b[38;5;124m'\u001b[39m\u001b[38;5;124mPer Student Budget\u001b[39m\u001b[38;5;124m'\u001b[39m, \n\u001b[1;32m     17\u001b[0m                           \u001b[38;5;124m'\u001b[39m\u001b[38;5;124mAverage Math Score\u001b[39m\u001b[38;5;124m'\u001b[39m, \n\u001b[1;32m     18\u001b[0m                           \u001b[38;5;124m'\u001b[39m\u001b[38;5;124mAverage Reading Score\u001b[39m\u001b[38;5;124m'\u001b[39m,\n\u001b[1;32m     19\u001b[0m                           \u001b[38;5;124m'\u001b[39m\u001b[38;5;124mPassing Math\u001b[39m\u001b[38;5;124m'\u001b[39m,\n\u001b[1;32m     20\u001b[0m                           \u001b[38;5;124m'\u001b[39m\u001b[38;5;124mPassing Reading\u001b[39m\u001b[38;5;124m'\u001b[39m,\n\u001b[1;32m     21\u001b[0m                           \u001b[38;5;124m'\u001b[39m\u001b[38;5;124mOverall Passing\u001b[39m\u001b[38;5;124m'\u001b[39m]]\n\u001b[1;32m     23\u001b[0m school_summary\u001b[38;5;241m.\u001b[39mstyle\u001b[38;5;241m.\u001b[39mformat({\u001b[38;5;124m'\u001b[39m\u001b[38;5;124mTotal Students\u001b[39m\u001b[38;5;124m'\u001b[39m: \u001b[38;5;124m'\u001b[39m\u001b[38;5;132;01m{:}\u001b[39;00m\u001b[38;5;124m'\u001b[39m,\n\u001b[1;32m     24\u001b[0m                           \u001b[38;5;124m\"\u001b[39m\u001b[38;5;124mSchool Budget\u001b[39m\u001b[38;5;124m\"\u001b[39m: \u001b[38;5;124m\"\u001b[39m\u001b[38;5;124m$\u001b[39m\u001b[38;5;132;01m{:,.2f}\u001b[39;00m\u001b[38;5;124m\"\u001b[39m,\n\u001b[1;32m     25\u001b[0m                           \u001b[38;5;124m\"\u001b[39m\u001b[38;5;124mPer Student Budget\u001b[39m\u001b[38;5;124m\"\u001b[39m: \u001b[38;5;124m\"\u001b[39m\u001b[38;5;124m$\u001b[39m\u001b[38;5;132;01m{:.2f}\u001b[39;00m\u001b[38;5;124m\"\u001b[39m,\n\u001b[0;32m   (...)\u001b[0m\n\u001b[1;32m     28\u001b[0m                           \u001b[38;5;124m\"\u001b[39m\u001b[38;5;124mPassing Math\u001b[39m\u001b[38;5;124m\"\u001b[39m: \u001b[38;5;124m\"\u001b[39m\u001b[38;5;132;01m{:6f}\u001b[39;00m\u001b[38;5;124m\"\u001b[39m, \n\u001b[1;32m     29\u001b[0m                           \u001b[38;5;124m\"\u001b[39m\u001b[38;5;124mPassing Reading\u001b[39m\u001b[38;5;124m\"\u001b[39m: \u001b[38;5;124m\"\u001b[39m\u001b[38;5;132;01m{:6f}\u001b[39;00m\u001b[38;5;124m\"\u001b[39m})\n\u001b[1;32m     31\u001b[0m indiv_school_summary\n",
      "File \u001b[0;32m~/anaconda3/lib/python3.11/site-packages/pandas/core/frame.py:3813\u001b[0m, in \u001b[0;36mDataFrame.__getitem__\u001b[0;34m(self, key)\u001b[0m\n\u001b[1;32m   3811\u001b[0m     \u001b[38;5;28;01mif\u001b[39;00m is_iterator(key):\n\u001b[1;32m   3812\u001b[0m         key \u001b[38;5;241m=\u001b[39m \u001b[38;5;28mlist\u001b[39m(key)\n\u001b[0;32m-> 3813\u001b[0m     indexer \u001b[38;5;241m=\u001b[39m \u001b[38;5;28mself\u001b[39m\u001b[38;5;241m.\u001b[39mcolumns\u001b[38;5;241m.\u001b[39m_get_indexer_strict(key, \u001b[38;5;124m\"\u001b[39m\u001b[38;5;124mcolumns\u001b[39m\u001b[38;5;124m\"\u001b[39m)[\u001b[38;5;241m1\u001b[39m]\n\u001b[1;32m   3815\u001b[0m \u001b[38;5;66;03m# take() does not accept boolean indexers\u001b[39;00m\n\u001b[1;32m   3816\u001b[0m \u001b[38;5;28;01mif\u001b[39;00m \u001b[38;5;28mgetattr\u001b[39m(indexer, \u001b[38;5;124m\"\u001b[39m\u001b[38;5;124mdtype\u001b[39m\u001b[38;5;124m\"\u001b[39m, \u001b[38;5;28;01mNone\u001b[39;00m) \u001b[38;5;241m==\u001b[39m \u001b[38;5;28mbool\u001b[39m:\n",
      "File \u001b[0;32m~/anaconda3/lib/python3.11/site-packages/pandas/core/indexes/base.py:6070\u001b[0m, in \u001b[0;36mIndex._get_indexer_strict\u001b[0;34m(self, key, axis_name)\u001b[0m\n\u001b[1;32m   6067\u001b[0m \u001b[38;5;28;01melse\u001b[39;00m:\n\u001b[1;32m   6068\u001b[0m     keyarr, indexer, new_indexer \u001b[38;5;241m=\u001b[39m \u001b[38;5;28mself\u001b[39m\u001b[38;5;241m.\u001b[39m_reindex_non_unique(keyarr)\n\u001b[0;32m-> 6070\u001b[0m \u001b[38;5;28mself\u001b[39m\u001b[38;5;241m.\u001b[39m_raise_if_missing(keyarr, indexer, axis_name)\n\u001b[1;32m   6072\u001b[0m keyarr \u001b[38;5;241m=\u001b[39m \u001b[38;5;28mself\u001b[39m\u001b[38;5;241m.\u001b[39mtake(indexer)\n\u001b[1;32m   6073\u001b[0m \u001b[38;5;28;01mif\u001b[39;00m \u001b[38;5;28misinstance\u001b[39m(key, Index):\n\u001b[1;32m   6074\u001b[0m     \u001b[38;5;66;03m# GH 42790 - Preserve name from an Index\u001b[39;00m\n",
      "File \u001b[0;32m~/anaconda3/lib/python3.11/site-packages/pandas/core/indexes/base.py:6133\u001b[0m, in \u001b[0;36mIndex._raise_if_missing\u001b[0;34m(self, key, indexer, axis_name)\u001b[0m\n\u001b[1;32m   6130\u001b[0m     \u001b[38;5;28;01mraise\u001b[39;00m \u001b[38;5;167;01mKeyError\u001b[39;00m(\u001b[38;5;124mf\u001b[39m\u001b[38;5;124m\"\u001b[39m\u001b[38;5;124mNone of [\u001b[39m\u001b[38;5;132;01m{\u001b[39;00mkey\u001b[38;5;132;01m}\u001b[39;00m\u001b[38;5;124m] are in the [\u001b[39m\u001b[38;5;132;01m{\u001b[39;00maxis_name\u001b[38;5;132;01m}\u001b[39;00m\u001b[38;5;124m]\u001b[39m\u001b[38;5;124m\"\u001b[39m)\n\u001b[1;32m   6132\u001b[0m not_found \u001b[38;5;241m=\u001b[39m \u001b[38;5;28mlist\u001b[39m(ensure_index(key)[missing_mask\u001b[38;5;241m.\u001b[39mnonzero()[\u001b[38;5;241m0\u001b[39m]]\u001b[38;5;241m.\u001b[39munique())\n\u001b[0;32m-> 6133\u001b[0m \u001b[38;5;28;01mraise\u001b[39;00m \u001b[38;5;167;01mKeyError\u001b[39;00m(\u001b[38;5;124mf\u001b[39m\u001b[38;5;124m\"\u001b[39m\u001b[38;5;132;01m{\u001b[39;00mnot_found\u001b[38;5;132;01m}\u001b[39;00m\u001b[38;5;124m not in index\u001b[39m\u001b[38;5;124m\"\u001b[39m)\n",
      "\u001b[0;31mKeyError\u001b[0m: \"['Passing Math', 'Passing Reading', 'Overall Passing'] not in index\""
     ]
    }
   ],
   "source": [
    "indiv_school_summary = pd.DataFrame({\n",
    "    'School Type': school_typ,\n",
    "    'Total Students': total_school_students,\n",
    "    'Per Student Budget': per_student_budget,\n",
    "    'School Budget': total_school_budget,\n",
    "    'Average Math Score': avg_math_score,\n",
    "    'Average Reading Score': avg_reading_score,\n",
    "    'Passing Math': pass_math_prt,\n",
    "    'Passing Reading': pass_reading_prt,\n",
    "    'Overall Passing': overall_pass\n",
    "})\n",
    "\n",
    "school_summary = school_summary[['School Type', \n",
    "                          'Total Students', \n",
    "                          'School Budget', \n",
    "                          'Per Student Budget', \n",
    "                          'Average Math Score', \n",
    "                          'Average Reading Score',\n",
    "                          'Passing Math',\n",
    "                          'Passing Reading',\n",
    "                          'Overall Passing']]\n",
    "\n",
    "school_summary.style.format({'Total Students': '{:}',\n",
    "                          \"School Budget\": \"${:,.2f}\",\n",
    "                          \"Per Student Budget\": \"${:.2f}\",\n",
    "                          'Average Math Score': \"{:6f}\", \n",
    "                          'Average Reading Score': \"{:6f}\", \n",
    "                          \"Passing Math\": \"{:6f}\", \n",
    "                          \"Passing Reading\": \"{:6f}\"})\n",
    "\n",
    "indiv_school_summary"
   ]
  },
  {
   "cell_type": "code",
   "execution_count": 55,
   "id": "41fb8fe4",
   "metadata": {},
   "outputs": [
    {
     "data": {
      "text/html": [
       "<style type=\"text/css\">\n",
       "</style>\n",
       "<table id=\"T_00174\">\n",
       "  <thead>\n",
       "    <tr>\n",
       "      <th class=\"blank level0\" >&nbsp;</th>\n",
       "      <th id=\"T_00174_level0_col0\" class=\"col_heading level0 col0\" >School Type</th>\n",
       "      <th id=\"T_00174_level0_col1\" class=\"col_heading level0 col1\" >Total Students</th>\n",
       "      <th id=\"T_00174_level0_col2\" class=\"col_heading level0 col2\" >Per Student Budget</th>\n",
       "      <th id=\"T_00174_level0_col3\" class=\"col_heading level0 col3\" >School Budget</th>\n",
       "      <th id=\"T_00174_level0_col4\" class=\"col_heading level0 col4\" >Average Math Score</th>\n",
       "      <th id=\"T_00174_level0_col5\" class=\"col_heading level0 col5\" >Average Reading Score</th>\n",
       "      <th id=\"T_00174_level0_col6\" class=\"col_heading level0 col6\" >% Passing Math</th>\n",
       "      <th id=\"T_00174_level0_col7\" class=\"col_heading level0 col7\" >% Passing Reading</th>\n",
       "      <th id=\"T_00174_level0_col8\" class=\"col_heading level0 col8\" >% Overall Passing</th>\n",
       "    </tr>\n",
       "    <tr>\n",
       "      <th class=\"index_name level0\" >school_name</th>\n",
       "      <th class=\"blank col0\" >&nbsp;</th>\n",
       "      <th class=\"blank col1\" >&nbsp;</th>\n",
       "      <th class=\"blank col2\" >&nbsp;</th>\n",
       "      <th class=\"blank col3\" >&nbsp;</th>\n",
       "      <th class=\"blank col4\" >&nbsp;</th>\n",
       "      <th class=\"blank col5\" >&nbsp;</th>\n",
       "      <th class=\"blank col6\" >&nbsp;</th>\n",
       "      <th class=\"blank col7\" >&nbsp;</th>\n",
       "      <th class=\"blank col8\" >&nbsp;</th>\n",
       "    </tr>\n",
       "  </thead>\n",
       "  <tbody>\n",
       "    <tr>\n",
       "      <th id=\"T_00174_level0_row0\" class=\"row_heading level0 row0\" >Bailey High School</th>\n",
       "      <td id=\"T_00174_row0_col0\" class=\"data row0 col0\" >District</td>\n",
       "      <td id=\"T_00174_row0_col1\" class=\"data row0 col1\" >4976</td>\n",
       "      <td id=\"T_00174_row0_col2\" class=\"data row0 col2\" >$628.00</td>\n",
       "      <td id=\"T_00174_row0_col3\" class=\"data row0 col3\" >3124928</td>\n",
       "      <td id=\"T_00174_row0_col4\" class=\"data row0 col4\" >77.048432</td>\n",
       "      <td id=\"T_00174_row0_col5\" class=\"data row0 col5\" >81.033963</td>\n",
       "      <td id=\"T_00174_row0_col6\" class=\"data row0 col6\" >8.470768</td>\n",
       "      <td id=\"T_00174_row0_col7\" class=\"data row0 col7\" >10.408476</td>\n",
       "      <td id=\"T_00174_row0_col8\" class=\"data row0 col8\" >6.941537</td>\n",
       "    </tr>\n",
       "    <tr>\n",
       "      <th id=\"T_00174_level0_row1\" class=\"row_heading level0 row1\" >Johnson High School</th>\n",
       "      <td id=\"T_00174_row1_col0\" class=\"data row1 col0\" >District</td>\n",
       "      <td id=\"T_00174_row1_col1\" class=\"data row1 col1\" >4761</td>\n",
       "      <td id=\"T_00174_row1_col2\" class=\"data row1 col2\" >$650.00</td>\n",
       "      <td id=\"T_00174_row1_col3\" class=\"data row1 col3\" >3094650</td>\n",
       "      <td id=\"T_00174_row1_col4\" class=\"data row1 col4\" >77.072464</td>\n",
       "      <td id=\"T_00174_row1_col5\" class=\"data row1 col5\" >80.966394</td>\n",
       "      <td id=\"T_00174_row1_col6\" class=\"data row1 col6\" >8.029104</td>\n",
       "      <td id=\"T_00174_row1_col7\" class=\"data row1 col7\" >9.872351</td>\n",
       "      <td id=\"T_00174_row1_col8\" class=\"data row1 col8\" >6.507531</td>\n",
       "    </tr>\n",
       "    <tr>\n",
       "      <th id=\"T_00174_level0_row2\" class=\"row_heading level0 row2\" >Hernandez High School</th>\n",
       "      <td id=\"T_00174_row2_col0\" class=\"data row2 col0\" >District</td>\n",
       "      <td id=\"T_00174_row2_col1\" class=\"data row2 col1\" >4635</td>\n",
       "      <td id=\"T_00174_row2_col2\" class=\"data row2 col2\" >$652.00</td>\n",
       "      <td id=\"T_00174_row2_col3\" class=\"data row2 col3\" >3022020</td>\n",
       "      <td id=\"T_00174_row2_col4\" class=\"data row2 col4\" >77.289752</td>\n",
       "      <td id=\"T_00174_row2_col5\" class=\"data row2 col5\" >80.934412</td>\n",
       "      <td id=\"T_00174_row2_col6\" class=\"data row2 col6\" >7.898902</td>\n",
       "      <td id=\"T_00174_row2_col7\" class=\"data row2 col7\" >9.568547</td>\n",
       "      <td id=\"T_00174_row2_col8\" class=\"data row2 col8\" >6.333929</td>\n",
       "    </tr>\n",
       "    <tr>\n",
       "      <th id=\"T_00174_level0_row3\" class=\"row_heading level0 row3\" >Rodriguez High School</th>\n",
       "      <td id=\"T_00174_row3_col0\" class=\"data row3 col0\" >District</td>\n",
       "      <td id=\"T_00174_row3_col1\" class=\"data row3 col1\" >3999</td>\n",
       "      <td id=\"T_00174_row3_col2\" class=\"data row3 col2\" >$637.00</td>\n",
       "      <td id=\"T_00174_row3_col3\" class=\"data row3 col3\" >2547363</td>\n",
       "      <td id=\"T_00174_row3_col4\" class=\"data row3 col4\" >76.842711</td>\n",
       "      <td id=\"T_00174_row3_col5\" class=\"data row3 col5\" >80.744686</td>\n",
       "      <td id=\"T_00174_row3_col6\" class=\"data row3 col6\" >6.775594</td>\n",
       "      <td id=\"T_00174_row3_col7\" class=\"data row3 col7\" >8.189941</td>\n",
       "      <td id=\"T_00174_row3_col8\" class=\"data row3 col8\" >5.409752</td>\n",
       "    </tr>\n",
       "    <tr>\n",
       "      <th id=\"T_00174_level0_row4\" class=\"row_heading level0 row4\" >Wilson High School</th>\n",
       "      <td id=\"T_00174_row4_col0\" class=\"data row4 col0\" >Charter</td>\n",
       "      <td id=\"T_00174_row4_col1\" class=\"data row4 col1\" >2283</td>\n",
       "      <td id=\"T_00174_row4_col2\" class=\"data row4 col2\" >$578.00</td>\n",
       "      <td id=\"T_00174_row4_col3\" class=\"data row4 col3\" >1319574</td>\n",
       "      <td id=\"T_00174_row4_col4\" class=\"data row4 col4\" >83.274201</td>\n",
       "      <td id=\"T_00174_row4_col5\" class=\"data row4 col5\" >83.989488</td>\n",
       "      <td id=\"T_00174_row4_col6\" class=\"data row4 col6\" >5.471024</td>\n",
       "      <td id=\"T_00174_row4_col7\" class=\"data row4 col7\" >5.626755</td>\n",
       "      <td id=\"T_00174_row4_col8\" class=\"data row4 col8\" >5.279551</td>\n",
       "    </tr>\n",
       "  </tbody>\n",
       "</table>\n"
      ],
      "text/plain": [
       "<pandas.io.formats.style.Styler at 0x12e61e4d0>"
      ]
     },
     "execution_count": 55,
     "metadata": {},
     "output_type": "execute_result"
    }
   ],
   "source": [
    "#displaying top performing schools\n",
    "\n",
    "#setting up data frame \n",
    "\n",
    "top_performing = indiv_school_summary.sort_values('% Overall Passing', ascending = False)\n",
    "top_performing.head().style.format({'Total Students': '{:}',\n",
    "                           'Total School Budget': '${:,.2f}', \n",
    "                           'Per Student Budget': '${:.2f}', \n",
    "                           '% Passing Math': '{:6f}', \n",
    "                           '% Passing Reading': '{:6f}', \n",
    "                           '% Overall Passing': '{:6f}'})"
   ]
  },
  {
   "cell_type": "code",
   "execution_count": null,
   "id": "eb433521",
   "metadata": {},
   "outputs": [],
   "source": []
  },
  {
   "cell_type": "code",
   "execution_count": null,
   "id": "bac410d7",
   "metadata": {},
   "outputs": [],
   "source": []
  },
  {
   "cell_type": "code",
   "execution_count": null,
   "id": "e5795719",
   "metadata": {},
   "outputs": [],
   "source": []
  },
  {
   "cell_type": "code",
   "execution_count": null,
   "id": "5e4323fd",
   "metadata": {},
   "outputs": [],
   "source": []
  },
  {
   "cell_type": "code",
   "execution_count": null,
   "id": "b65a0331",
   "metadata": {},
   "outputs": [],
   "source": []
  },
  {
   "cell_type": "code",
   "execution_count": null,
   "id": "428319db",
   "metadata": {},
   "outputs": [],
   "source": []
  },
  {
   "cell_type": "code",
   "execution_count": null,
   "id": "6d41ff6f",
   "metadata": {},
   "outputs": [],
   "source": []
  },
  {
   "cell_type": "code",
   "execution_count": null,
   "id": "e8926838",
   "metadata": {},
   "outputs": [],
   "source": []
  },
  {
   "cell_type": "code",
   "execution_count": null,
   "id": "892a1784",
   "metadata": {},
   "outputs": [],
   "source": []
  }
 ],
 "metadata": {
  "kernelspec": {
   "display_name": "PythonData",
   "language": "python",
   "name": "pythondata"
  },
  "language_info": {
   "codemirror_mode": {
    "name": "ipython",
    "version": 3
   },
   "file_extension": ".py",
   "mimetype": "text/x-python",
   "name": "python",
   "nbconvert_exporter": "python",
   "pygments_lexer": "ipython3",
   "version": "3.11.4"
  }
 },
 "nbformat": 4,
 "nbformat_minor": 5
}
